{
  "nbformat": 4,
  "nbformat_minor": 0,
  "metadata": {
    "colab": {
      "provenance": []
    },
    "kernelspec": {
      "name": "python3",
      "display_name": "Python 3"
    },
    "language_info": {
      "name": "python"
    }
  },
  "cells": [
    {
      "cell_type": "code",
      "execution_count": 2,
      "metadata": {
        "colab": {
          "base_uri": "https://localhost:8080/"
        },
        "id": "lbi2xoPE60fq",
        "outputId": "7876bd74-5852-44a8-d469-f60c76bace64"
      },
      "outputs": [
        {
          "output_type": "stream",
          "name": "stdout",
          "text": [
            "khokho string is symmetrical\n",
            "khokho string is not palindrome\n"
          ]
        }
      ],
      "source": [
        "string = 'khokho'\n",
        "half = int(len(string) / 2)\n",
        "\n",
        "\n",
        "first_str = string[:half]\n",
        "second_str = string[half:]\n",
        "\n",
        "\n",
        "# symmetric\n",
        "if first_str == second_str:\n",
        "    print(string, 'string is symmetrical')\n",
        "else:\n",
        "    print(string, 'string is not symmetrical')\n",
        "\n",
        "# palindrome\n",
        "if first_str == second_str[::-1]:  # ''.join(reversed(second_str)) [slower]\n",
        "    print(string, 'string is palindrome')\n",
        "else:\n",
        "    print(string, 'string is not palindrome')"
      ]
    },
    {
      "cell_type": "code",
      "source": [
        "string = 'amaama'\n",
        "half = int(len(string) / 2)\n",
        "\n",
        "\n",
        "first_str = string[:half]\n",
        "second_str = string[half:]\n",
        "\n",
        "\n",
        "# symmetric\n",
        "if first_str == second_str:\n",
        "    print(string, 'string is symmetrical')\n",
        "else:\n",
        "    print(string, 'string is not symmetrical')\n",
        "\n",
        "# palindrome\n",
        "if first_str == second_str[::-1]:  # ''.join(reversed(second_str)) [slower]\n",
        "    print(string, 'string is palindrome')\n",
        "else:\n",
        "    print(string, 'string is not palindrome')"
      ],
      "metadata": {
        "colab": {
          "base_uri": "https://localhost:8080/"
        },
        "id": "2mJav8GA7dgP",
        "outputId": "69313141-251e-4d9e-d36d-43676cf9babb"
      },
      "execution_count": 4,
      "outputs": [
        {
          "output_type": "stream",
          "name": "stdout",
          "text": [
            "amaama string is symmetrical\n",
            "amaama string is palindrome\n"
          ]
        }
      ]
    },
    {
      "cell_type": "code",
      "source": [
        "# To reverse words in a given string\n",
        "\n",
        "# input string\n",
        "string = \"my name is laxmi\"\n",
        "# reversing words in a given string\n",
        "s = string.split()[::-1]\n",
        "l = []\n",
        "for i in s:\n",
        "    # appending reversed words to l\n",
        "    l.append(i)\n",
        "# printing reverse words\n",
        "print(\" \".join(l))"
      ],
      "metadata": {
        "colab": {
          "base_uri": "https://localhost:8080/"
        },
        "id": "oFT11AG28tLa",
        "outputId": "a81ef08d-1cbf-4df5-8ffd-da104aaf0e7b"
      },
      "execution_count": 12,
      "outputs": [
        {
          "output_type": "stream",
          "name": "stdout",
          "text": [
            "laxmi is name my\n"
          ]
        }
      ]
    },
    {
      "cell_type": "code",
      "source": [
        "str = 'Geeks123For123Geeks'\n",
        "\n",
        "print(str.translate({ord(i): None for i in '123'}))"
      ],
      "metadata": {
        "colab": {
          "base_uri": "https://localhost:8080/"
        },
        "id": "UHfrE05s-dE_",
        "outputId": "eceec0c5-7f15-49c2-ce12-a967431c80e1"
      },
      "execution_count": 13,
      "outputs": [
        {
          "output_type": "stream",
          "name": "stdout",
          "text": [
            "GeeksForGeeks\n"
          ]
        }
      ]
    },
    {
      "cell_type": "code",
      "source": [
        "def upper_later_part(test_str):\n",
        "\n",
        "  # Get the length of the string.\n",
        "  str_len = len(test_str)\n",
        "\n",
        "  # Get the index of the middle of the string.\n",
        "  mid_idx = str_len // 2\n",
        "\n",
        "  # Uppercase the characters from the middle of the string to the end.\n",
        "  upper_part = test_str[mid_idx:].upper()\n",
        "\n",
        "  # Combine the lowercase first half of the string with the uppercased second half.\n",
        "  new_str = test_str[:mid_idx] + upper_part\n",
        "\n",
        "  return new_str\n",
        "\n",
        "\n",
        "if __name__ == \"__main__\":\n",
        "  # Test the function.\n",
        "  test_str = \"helloworldfriend\"\n",
        "  new_str = upper_later_part(test_str)\n",
        "  print(new_str)"
      ],
      "metadata": {
        "colab": {
          "base_uri": "https://localhost:8080/"
        },
        "id": "Ee7jydheCgay",
        "outputId": "8ab28884-7c70-467b-83e3-2c505d2d0b2e"
      },
      "execution_count": 17,
      "outputs": [
        {
          "output_type": "stream",
          "name": "stdout",
          "text": [
            "helloworLDFRIEND\n"
          ]
        }
      ]
    },
    {
      "cell_type": "code",
      "source": [
        "# Python program to capitalize\n",
        "# first and last character of\n",
        "# each word of a String\n",
        "\n",
        "\n",
        "# Function to do the same\n",
        "def word_both_cap(str):\n",
        "\n",
        "    # lambda function for capitalizing the\n",
        "    # first and last letter of words in\n",
        "    # the string\n",
        "    return ' '.join(map(lambda s: s[:-1]+s[-1].upper(),\n",
        "                        s.title().split()))\n",
        "\n",
        "\n",
        "# Driver's code\n",
        "s = \"hello world\"\n",
        "print(\"String before:\", s)\n",
        "print(\"String after:\", word_both_cap(str))"
      ],
      "metadata": {
        "colab": {
          "base_uri": "https://localhost:8080/"
        },
        "id": "WzO_-jtcC8ip",
        "outputId": "848d4b31-4dd1-4f0f-9898-4e34d85fba9b"
      },
      "execution_count": 19,
      "outputs": [
        {
          "output_type": "stream",
          "name": "stdout",
          "text": [
            "String before: hello world\n",
            "String after: HellO WorlD\n"
          ]
        }
      ]
    }
  ]
}